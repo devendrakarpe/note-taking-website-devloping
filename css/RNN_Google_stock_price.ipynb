{
  "cells": [
    {
      "cell_type": "code",
      "execution_count": null,
      "metadata": {
        "id": "SNtvPdHFc_hm"
      },
      "outputs": [],
      "source": [
        "\n",
        "#!/usr/bin/env python\n",
        "# coding: utf-8"
      ]
    },
    {
      "cell_type": "markdown",
      "metadata": {
        "id": "6bCPt8_rc_hp"
      },
      "source": [
        "In[1]:"
      ]
    },
    {
      "cell_type": "markdown",
      "metadata": {
        "id": "AqTEPVnDc_hs"
      },
      "source": [
        "mport Libraries"
      ]
    },
    {
      "cell_type": "code",
      "execution_count": null,
      "metadata": {
        "id": "VXhn9uAHc_ht"
      },
      "outputs": [],
      "source": [
        "import numpy as np\n",
        "import pandas as pd\n",
        "import matplotlib.pyplot as plt\n",
        "import seaborn as sns"
      ]
    },
    {
      "cell_type": "markdown",
      "metadata": {
        "id": "xxzDNPPvc_ht"
      },
      "source": [
        "In[2]:"
      ]
    },
    {
      "cell_type": "markdown",
      "metadata": {
        "id": "ggo2rGtTc_hu"
      },
      "source": [
        "read Dataset"
      ]
    },
    {
      "cell_type": "code",
      "execution_count": null,
      "metadata": {
        "colab": {
          "base_uri": "https://localhost:8080/",
          "height": 363
        },
        "id": "9kBdjOIyc_hu",
        "outputId": "33caea1f-8fdd-4c91-b1c0-5e9e62004a9d"
      },
      "outputs": [
        {
          "output_type": "execute_result",
          "data": {
            "text/plain": [
              "        Date    Open    High     Low   Close      Volume\n",
              "0   1/3/2012  325.25  332.83  324.97  663.59   7,380,500\n",
              "1   1/4/2012  331.27  333.87  329.08  666.45   5,749,400\n",
              "2   1/5/2012  329.83  330.75  326.89  657.21   6,590,300\n",
              "3   1/6/2012  328.34  328.77  323.68  648.24   5,405,900\n",
              "4   1/9/2012  322.04  322.29  309.46  620.76  11,688,800\n",
              "5  1/10/2012  313.70  315.72  307.30  621.43   8,824,000\n",
              "6  1/11/2012  310.59  313.52  309.40  624.25   4,817,800\n",
              "7  1/12/2012  314.43  315.26  312.08  627.92   3,764,400\n",
              "8  1/13/2012  311.96  312.30  309.37  623.28   4,631,800\n",
              "9  1/17/2012  314.81  314.81  311.67  626.86   3,832,800"
            ],
            "text/html": [
              "\n",
              "  <div id=\"df-97a9ab37-3e29-4232-b83f-2ba348c373d7\">\n",
              "    <div class=\"colab-df-container\">\n",
              "      <div>\n",
              "<style scoped>\n",
              "    .dataframe tbody tr th:only-of-type {\n",
              "        vertical-align: middle;\n",
              "    }\n",
              "\n",
              "    .dataframe tbody tr th {\n",
              "        vertical-align: top;\n",
              "    }\n",
              "\n",
              "    .dataframe thead th {\n",
              "        text-align: right;\n",
              "    }\n",
              "</style>\n",
              "<table border=\"1\" class=\"dataframe\">\n",
              "  <thead>\n",
              "    <tr style=\"text-align: right;\">\n",
              "      <th></th>\n",
              "      <th>Date</th>\n",
              "      <th>Open</th>\n",
              "      <th>High</th>\n",
              "      <th>Low</th>\n",
              "      <th>Close</th>\n",
              "      <th>Volume</th>\n",
              "    </tr>\n",
              "  </thead>\n",
              "  <tbody>\n",
              "    <tr>\n",
              "      <th>0</th>\n",
              "      <td>1/3/2012</td>\n",
              "      <td>325.25</td>\n",
              "      <td>332.83</td>\n",
              "      <td>324.97</td>\n",
              "      <td>663.59</td>\n",
              "      <td>7,380,500</td>\n",
              "    </tr>\n",
              "    <tr>\n",
              "      <th>1</th>\n",
              "      <td>1/4/2012</td>\n",
              "      <td>331.27</td>\n",
              "      <td>333.87</td>\n",
              "      <td>329.08</td>\n",
              "      <td>666.45</td>\n",
              "      <td>5,749,400</td>\n",
              "    </tr>\n",
              "    <tr>\n",
              "      <th>2</th>\n",
              "      <td>1/5/2012</td>\n",
              "      <td>329.83</td>\n",
              "      <td>330.75</td>\n",
              "      <td>326.89</td>\n",
              "      <td>657.21</td>\n",
              "      <td>6,590,300</td>\n",
              "    </tr>\n",
              "    <tr>\n",
              "      <th>3</th>\n",
              "      <td>1/6/2012</td>\n",
              "      <td>328.34</td>\n",
              "      <td>328.77</td>\n",
              "      <td>323.68</td>\n",
              "      <td>648.24</td>\n",
              "      <td>5,405,900</td>\n",
              "    </tr>\n",
              "    <tr>\n",
              "      <th>4</th>\n",
              "      <td>1/9/2012</td>\n",
              "      <td>322.04</td>\n",
              "      <td>322.29</td>\n",
              "      <td>309.46</td>\n",
              "      <td>620.76</td>\n",
              "      <td>11,688,800</td>\n",
              "    </tr>\n",
              "    <tr>\n",
              "      <th>5</th>\n",
              "      <td>1/10/2012</td>\n",
              "      <td>313.70</td>\n",
              "      <td>315.72</td>\n",
              "      <td>307.30</td>\n",
              "      <td>621.43</td>\n",
              "      <td>8,824,000</td>\n",
              "    </tr>\n",
              "    <tr>\n",
              "      <th>6</th>\n",
              "      <td>1/11/2012</td>\n",
              "      <td>310.59</td>\n",
              "      <td>313.52</td>\n",
              "      <td>309.40</td>\n",
              "      <td>624.25</td>\n",
              "      <td>4,817,800</td>\n",
              "    </tr>\n",
              "    <tr>\n",
              "      <th>7</th>\n",
              "      <td>1/12/2012</td>\n",
              "      <td>314.43</td>\n",
              "      <td>315.26</td>\n",
              "      <td>312.08</td>\n",
              "      <td>627.92</td>\n",
              "      <td>3,764,400</td>\n",
              "    </tr>\n",
              "    <tr>\n",
              "      <th>8</th>\n",
              "      <td>1/13/2012</td>\n",
              "      <td>311.96</td>\n",
              "      <td>312.30</td>\n",
              "      <td>309.37</td>\n",
              "      <td>623.28</td>\n",
              "      <td>4,631,800</td>\n",
              "    </tr>\n",
              "    <tr>\n",
              "      <th>9</th>\n",
              "      <td>1/17/2012</td>\n",
              "      <td>314.81</td>\n",
              "      <td>314.81</td>\n",
              "      <td>311.67</td>\n",
              "      <td>626.86</td>\n",
              "      <td>3,832,800</td>\n",
              "    </tr>\n",
              "  </tbody>\n",
              "</table>\n",
              "</div>\n",
              "      <button class=\"colab-df-convert\" onclick=\"convertToInteractive('df-97a9ab37-3e29-4232-b83f-2ba348c373d7')\"\n",
              "              title=\"Convert this dataframe to an interactive table.\"\n",
              "              style=\"display:none;\">\n",
              "        \n",
              "  <svg xmlns=\"http://www.w3.org/2000/svg\" height=\"24px\"viewBox=\"0 0 24 24\"\n",
              "       width=\"24px\">\n",
              "    <path d=\"M0 0h24v24H0V0z\" fill=\"none\"/>\n",
              "    <path d=\"M18.56 5.44l.94 2.06.94-2.06 2.06-.94-2.06-.94-.94-2.06-.94 2.06-2.06.94zm-11 1L8.5 8.5l.94-2.06 2.06-.94-2.06-.94L8.5 2.5l-.94 2.06-2.06.94zm10 10l.94 2.06.94-2.06 2.06-.94-2.06-.94-.94-2.06-.94 2.06-2.06.94z\"/><path d=\"M17.41 7.96l-1.37-1.37c-.4-.4-.92-.59-1.43-.59-.52 0-1.04.2-1.43.59L10.3 9.45l-7.72 7.72c-.78.78-.78 2.05 0 2.83L4 21.41c.39.39.9.59 1.41.59.51 0 1.02-.2 1.41-.59l7.78-7.78 2.81-2.81c.8-.78.8-2.07 0-2.86zM5.41 20L4 18.59l7.72-7.72 1.47 1.35L5.41 20z\"/>\n",
              "  </svg>\n",
              "      </button>\n",
              "      \n",
              "  <style>\n",
              "    .colab-df-container {\n",
              "      display:flex;\n",
              "      flex-wrap:wrap;\n",
              "      gap: 12px;\n",
              "    }\n",
              "\n",
              "    .colab-df-convert {\n",
              "      background-color: #E8F0FE;\n",
              "      border: none;\n",
              "      border-radius: 50%;\n",
              "      cursor: pointer;\n",
              "      display: none;\n",
              "      fill: #1967D2;\n",
              "      height: 32px;\n",
              "      padding: 0 0 0 0;\n",
              "      width: 32px;\n",
              "    }\n",
              "\n",
              "    .colab-df-convert:hover {\n",
              "      background-color: #E2EBFA;\n",
              "      box-shadow: 0px 1px 2px rgba(60, 64, 67, 0.3), 0px 1px 3px 1px rgba(60, 64, 67, 0.15);\n",
              "      fill: #174EA6;\n",
              "    }\n",
              "\n",
              "    [theme=dark] .colab-df-convert {\n",
              "      background-color: #3B4455;\n",
              "      fill: #D2E3FC;\n",
              "    }\n",
              "\n",
              "    [theme=dark] .colab-df-convert:hover {\n",
              "      background-color: #434B5C;\n",
              "      box-shadow: 0px 1px 3px 1px rgba(0, 0, 0, 0.15);\n",
              "      filter: drop-shadow(0px 1px 2px rgba(0, 0, 0, 0.3));\n",
              "      fill: #FFFFFF;\n",
              "    }\n",
              "  </style>\n",
              "\n",
              "      <script>\n",
              "        const buttonEl =\n",
              "          document.querySelector('#df-97a9ab37-3e29-4232-b83f-2ba348c373d7 button.colab-df-convert');\n",
              "        buttonEl.style.display =\n",
              "          google.colab.kernel.accessAllowed ? 'block' : 'none';\n",
              "\n",
              "        async function convertToInteractive(key) {\n",
              "          const element = document.querySelector('#df-97a9ab37-3e29-4232-b83f-2ba348c373d7');\n",
              "          const dataTable =\n",
              "            await google.colab.kernel.invokeFunction('convertToInteractive',\n",
              "                                                     [key], {});\n",
              "          if (!dataTable) return;\n",
              "\n",
              "          const docLinkHtml = 'Like what you see? Visit the ' +\n",
              "            '<a target=\"_blank\" href=https://colab.research.google.com/notebooks/data_table.ipynb>data table notebook</a>'\n",
              "            + ' to learn more about interactive tables.';\n",
              "          element.innerHTML = '';\n",
              "          dataTable['output_type'] = 'display_data';\n",
              "          await google.colab.output.renderOutput(dataTable, element);\n",
              "          const docLink = document.createElement('div');\n",
              "          docLink.innerHTML = docLinkHtml;\n",
              "          element.appendChild(docLink);\n",
              "        }\n",
              "      </script>\n",
              "    </div>\n",
              "  </div>\n",
              "  "
            ]
          },
          "metadata": {},
          "execution_count": 38
        }
      ],
      "source": [
        "df_train=pd.read_csv(\"Google_Stock_Price_Train.csv\")\n",
        "df_train.head(10)"
      ]
    },
    {
      "cell_type": "markdown",
      "metadata": {
        "id": "a51g2qv7c_hu"
      },
      "source": [
        "In[3]:"
      ]
    },
    {
      "cell_type": "markdown",
      "metadata": {
        "id": "wSRGJWQTc_hv"
      },
      "source": [
        "eras only takes numpy array<br>\n",
        "ill use Open price for prediction so we need to make it NumPy array"
      ]
    },
    {
      "cell_type": "code",
      "execution_count": null,
      "metadata": {
        "colab": {
          "base_uri": "https://localhost:8080/"
        },
        "id": "iz3sIZdac_hv",
        "outputId": "5c04b518-20f6-4d72-ae9a-2ec878712da4"
      },
      "outputs": [
        {
          "output_type": "execute_result",
          "data": {
            "text/plain": [
              "array([[325.25],\n",
              "       [331.27],\n",
              "       [329.83],\n",
              "       ...,\n",
              "       [793.7 ],\n",
              "       [783.33],\n",
              "       [782.75]])"
            ]
          },
          "metadata": {},
          "execution_count": 39
        }
      ],
      "source": [
        "training_set = df_train.iloc[:, 1: 2].values\n",
        "training_set"
      ]
    },
    {
      "cell_type": "markdown",
      "metadata": {
        "id": "mHDU-N0ic_hv"
      },
      "source": [
        "In[4]:"
      ]
    },
    {
      "cell_type": "markdown",
      "metadata": {
        "id": "HwrjaojZc_hv"
      },
      "source": [
        "cale the stock prices between (0, 1) to avoid intensive computation."
      ]
    },
    {
      "cell_type": "code",
      "execution_count": null,
      "metadata": {
        "colab": {
          "base_uri": "https://localhost:8080/"
        },
        "id": "-1NrqBIAc_hw",
        "outputId": "2a90dc24-5a46-4527-cd95-219b1c9541f0"
      },
      "outputs": [
        {
          "output_type": "execute_result",
          "data": {
            "text/plain": [
              "array([[0.08581368],\n",
              "       [0.09701243],\n",
              "       [0.09433366],\n",
              "       ...,\n",
              "       [0.95725128],\n",
              "       [0.93796041],\n",
              "       [0.93688146]])"
            ]
          },
          "metadata": {},
          "execution_count": 40
        }
      ],
      "source": [
        "from sklearn.preprocessing import MinMaxScaler\n",
        "sc= MinMaxScaler()\n",
        "training_set=sc.fit_transform(training_set)\n",
        "training_set"
      ]
    },
    {
      "cell_type": "markdown",
      "metadata": {
        "id": "80ShGyc6c_hw"
      },
      "source": [
        "In[5]:"
      ]
    },
    {
      "cell_type": "code",
      "execution_count": null,
      "metadata": {
        "colab": {
          "base_uri": "https://localhost:8080/",
          "height": 52
        },
        "id": "NFpH00_tc_hw",
        "outputId": "1ef09a1a-21fb-4c15-fa59-674a384e4e25"
      },
      "outputs": [
        {
          "output_type": "display_data",
          "data": {
            "text/plain": [
              "(1257, 1)"
            ]
          },
          "metadata": {}
        },
        {
          "output_type": "display_data",
          "data": {
            "text/plain": [
              "(1257, 1)"
            ]
          },
          "metadata": {}
        }
      ],
      "source": [
        "x_train= training_set[0:1257]\n",
        "y_train= training_set[1:1258]\n",
        "display(x_train.shape,  y_train.shape)"
      ]
    },
    {
      "cell_type": "markdown",
      "metadata": {
        "id": "aDvkdezlc_hw"
      },
      "source": [
        "In[6]:"
      ]
    },
    {
      "cell_type": "code",
      "execution_count": null,
      "metadata": {
        "id": "2EsoN8duc_hw"
      },
      "outputs": [],
      "source": [
        "x_train=np.reshape(x_train, (1257 , 1 , 1))"
      ]
    },
    {
      "cell_type": "markdown",
      "metadata": {
        "id": "ac8fimpec_hw"
      },
      "source": [
        "In[7]:"
      ]
    },
    {
      "cell_type": "code",
      "execution_count": null,
      "metadata": {
        "colab": {
          "base_uri": "https://localhost:8080/"
        },
        "id": "69mWBnhXc_hw",
        "outputId": "ce4fb979-7f66-4829-eff0-ac94b9259566"
      },
      "outputs": [
        {
          "output_type": "execute_result",
          "data": {
            "text/plain": [
              "(1257, 1, 1)"
            ]
          },
          "metadata": {},
          "execution_count": 43
        }
      ],
      "source": [
        "x_train.shape"
      ]
    },
    {
      "cell_type": "markdown",
      "metadata": {
        "id": "aYah2dZhc_hx"
      },
      "source": [
        "In[8]:"
      ]
    },
    {
      "cell_type": "code",
      "execution_count": null,
      "metadata": {
        "colab": {
          "base_uri": "https://localhost:8080/",
          "height": 676
        },
        "id": "wrGyUhykc_hx",
        "outputId": "af6ee433-3fc7-4ffe-d4c2-c833fb335489"
      },
      "outputs": [
        {
          "output_type": "execute_result",
          "data": {
            "text/plain": [
              "         Date    Open    High     Low   Close     Volume\n",
              "0    1/3/2017  778.81  789.63  775.80  786.14  1,657,300\n",
              "1    1/4/2017  788.36  791.34  783.16  786.90  1,073,000\n",
              "2    1/5/2017  786.08  794.48  785.02  794.02  1,335,200\n",
              "3    1/6/2017  795.26  807.90  792.20  806.15  1,640,200\n",
              "4    1/9/2017  806.40  809.97  802.83  806.65  1,272,400\n",
              "5   1/10/2017  807.86  809.13  803.51  804.79  1,176,800\n",
              "6   1/11/2017  805.00  808.15  801.37  807.91  1,065,900\n",
              "7   1/12/2017  807.14  807.39  799.17  806.36  1,353,100\n",
              "8   1/13/2017  807.48  811.22  806.69  807.88  1,099,200\n",
              "9   1/17/2017  807.08  807.14  800.37  804.61  1,362,100\n",
              "10  1/18/2017  805.81  806.21  800.99  806.07  1,294,400\n",
              "11  1/19/2017  805.12  809.48  801.80  802.17    919,300\n",
              "12  1/20/2017  806.91  806.91  801.69  805.02  1,670,000\n",
              "13  1/23/2017  807.25  820.87  803.74  819.31  1,963,600\n",
              "14  1/24/2017  822.30  825.90  817.82  823.87  1,474,000\n",
              "15  1/25/2017  829.62  835.77  825.06  835.67  1,494,500\n",
              "16  1/26/2017  837.81  838.00  827.01  832.15  2,973,900\n",
              "17  1/27/2017  834.71  841.95  820.44  823.31  2,965,800\n",
              "18  1/30/2017  814.66  815.84  799.80  802.32  3,246,600\n",
              "19  1/31/2017  796.86  801.25  790.52  796.79  2,160,600"
            ],
            "text/html": [
              "\n",
              "  <div id=\"df-78c83fc3-de7a-498e-b27e-2020afcaba70\">\n",
              "    <div class=\"colab-df-container\">\n",
              "      <div>\n",
              "<style scoped>\n",
              "    .dataframe tbody tr th:only-of-type {\n",
              "        vertical-align: middle;\n",
              "    }\n",
              "\n",
              "    .dataframe tbody tr th {\n",
              "        vertical-align: top;\n",
              "    }\n",
              "\n",
              "    .dataframe thead th {\n",
              "        text-align: right;\n",
              "    }\n",
              "</style>\n",
              "<table border=\"1\" class=\"dataframe\">\n",
              "  <thead>\n",
              "    <tr style=\"text-align: right;\">\n",
              "      <th></th>\n",
              "      <th>Date</th>\n",
              "      <th>Open</th>\n",
              "      <th>High</th>\n",
              "      <th>Low</th>\n",
              "      <th>Close</th>\n",
              "      <th>Volume</th>\n",
              "    </tr>\n",
              "  </thead>\n",
              "  <tbody>\n",
              "    <tr>\n",
              "      <th>0</th>\n",
              "      <td>1/3/2017</td>\n",
              "      <td>778.81</td>\n",
              "      <td>789.63</td>\n",
              "      <td>775.80</td>\n",
              "      <td>786.14</td>\n",
              "      <td>1,657,300</td>\n",
              "    </tr>\n",
              "    <tr>\n",
              "      <th>1</th>\n",
              "      <td>1/4/2017</td>\n",
              "      <td>788.36</td>\n",
              "      <td>791.34</td>\n",
              "      <td>783.16</td>\n",
              "      <td>786.90</td>\n",
              "      <td>1,073,000</td>\n",
              "    </tr>\n",
              "    <tr>\n",
              "      <th>2</th>\n",
              "      <td>1/5/2017</td>\n",
              "      <td>786.08</td>\n",
              "      <td>794.48</td>\n",
              "      <td>785.02</td>\n",
              "      <td>794.02</td>\n",
              "      <td>1,335,200</td>\n",
              "    </tr>\n",
              "    <tr>\n",
              "      <th>3</th>\n",
              "      <td>1/6/2017</td>\n",
              "      <td>795.26</td>\n",
              "      <td>807.90</td>\n",
              "      <td>792.20</td>\n",
              "      <td>806.15</td>\n",
              "      <td>1,640,200</td>\n",
              "    </tr>\n",
              "    <tr>\n",
              "      <th>4</th>\n",
              "      <td>1/9/2017</td>\n",
              "      <td>806.40</td>\n",
              "      <td>809.97</td>\n",
              "      <td>802.83</td>\n",
              "      <td>806.65</td>\n",
              "      <td>1,272,400</td>\n",
              "    </tr>\n",
              "    <tr>\n",
              "      <th>5</th>\n",
              "      <td>1/10/2017</td>\n",
              "      <td>807.86</td>\n",
              "      <td>809.13</td>\n",
              "      <td>803.51</td>\n",
              "      <td>804.79</td>\n",
              "      <td>1,176,800</td>\n",
              "    </tr>\n",
              "    <tr>\n",
              "      <th>6</th>\n",
              "      <td>1/11/2017</td>\n",
              "      <td>805.00</td>\n",
              "      <td>808.15</td>\n",
              "      <td>801.37</td>\n",
              "      <td>807.91</td>\n",
              "      <td>1,065,900</td>\n",
              "    </tr>\n",
              "    <tr>\n",
              "      <th>7</th>\n",
              "      <td>1/12/2017</td>\n",
              "      <td>807.14</td>\n",
              "      <td>807.39</td>\n",
              "      <td>799.17</td>\n",
              "      <td>806.36</td>\n",
              "      <td>1,353,100</td>\n",
              "    </tr>\n",
              "    <tr>\n",
              "      <th>8</th>\n",
              "      <td>1/13/2017</td>\n",
              "      <td>807.48</td>\n",
              "      <td>811.22</td>\n",
              "      <td>806.69</td>\n",
              "      <td>807.88</td>\n",
              "      <td>1,099,200</td>\n",
              "    </tr>\n",
              "    <tr>\n",
              "      <th>9</th>\n",
              "      <td>1/17/2017</td>\n",
              "      <td>807.08</td>\n",
              "      <td>807.14</td>\n",
              "      <td>800.37</td>\n",
              "      <td>804.61</td>\n",
              "      <td>1,362,100</td>\n",
              "    </tr>\n",
              "    <tr>\n",
              "      <th>10</th>\n",
              "      <td>1/18/2017</td>\n",
              "      <td>805.81</td>\n",
              "      <td>806.21</td>\n",
              "      <td>800.99</td>\n",
              "      <td>806.07</td>\n",
              "      <td>1,294,400</td>\n",
              "    </tr>\n",
              "    <tr>\n",
              "      <th>11</th>\n",
              "      <td>1/19/2017</td>\n",
              "      <td>805.12</td>\n",
              "      <td>809.48</td>\n",
              "      <td>801.80</td>\n",
              "      <td>802.17</td>\n",
              "      <td>919,300</td>\n",
              "    </tr>\n",
              "    <tr>\n",
              "      <th>12</th>\n",
              "      <td>1/20/2017</td>\n",
              "      <td>806.91</td>\n",
              "      <td>806.91</td>\n",
              "      <td>801.69</td>\n",
              "      <td>805.02</td>\n",
              "      <td>1,670,000</td>\n",
              "    </tr>\n",
              "    <tr>\n",
              "      <th>13</th>\n",
              "      <td>1/23/2017</td>\n",
              "      <td>807.25</td>\n",
              "      <td>820.87</td>\n",
              "      <td>803.74</td>\n",
              "      <td>819.31</td>\n",
              "      <td>1,963,600</td>\n",
              "    </tr>\n",
              "    <tr>\n",
              "      <th>14</th>\n",
              "      <td>1/24/2017</td>\n",
              "      <td>822.30</td>\n",
              "      <td>825.90</td>\n",
              "      <td>817.82</td>\n",
              "      <td>823.87</td>\n",
              "      <td>1,474,000</td>\n",
              "    </tr>\n",
              "    <tr>\n",
              "      <th>15</th>\n",
              "      <td>1/25/2017</td>\n",
              "      <td>829.62</td>\n",
              "      <td>835.77</td>\n",
              "      <td>825.06</td>\n",
              "      <td>835.67</td>\n",
              "      <td>1,494,500</td>\n",
              "    </tr>\n",
              "    <tr>\n",
              "      <th>16</th>\n",
              "      <td>1/26/2017</td>\n",
              "      <td>837.81</td>\n",
              "      <td>838.00</td>\n",
              "      <td>827.01</td>\n",
              "      <td>832.15</td>\n",
              "      <td>2,973,900</td>\n",
              "    </tr>\n",
              "    <tr>\n",
              "      <th>17</th>\n",
              "      <td>1/27/2017</td>\n",
              "      <td>834.71</td>\n",
              "      <td>841.95</td>\n",
              "      <td>820.44</td>\n",
              "      <td>823.31</td>\n",
              "      <td>2,965,800</td>\n",
              "    </tr>\n",
              "    <tr>\n",
              "      <th>18</th>\n",
              "      <td>1/30/2017</td>\n",
              "      <td>814.66</td>\n",
              "      <td>815.84</td>\n",
              "      <td>799.80</td>\n",
              "      <td>802.32</td>\n",
              "      <td>3,246,600</td>\n",
              "    </tr>\n",
              "    <tr>\n",
              "      <th>19</th>\n",
              "      <td>1/31/2017</td>\n",
              "      <td>796.86</td>\n",
              "      <td>801.25</td>\n",
              "      <td>790.52</td>\n",
              "      <td>796.79</td>\n",
              "      <td>2,160,600</td>\n",
              "    </tr>\n",
              "  </tbody>\n",
              "</table>\n",
              "</div>\n",
              "      <button class=\"colab-df-convert\" onclick=\"convertToInteractive('df-78c83fc3-de7a-498e-b27e-2020afcaba70')\"\n",
              "              title=\"Convert this dataframe to an interactive table.\"\n",
              "              style=\"display:none;\">\n",
              "        \n",
              "  <svg xmlns=\"http://www.w3.org/2000/svg\" height=\"24px\"viewBox=\"0 0 24 24\"\n",
              "       width=\"24px\">\n",
              "    <path d=\"M0 0h24v24H0V0z\" fill=\"none\"/>\n",
              "    <path d=\"M18.56 5.44l.94 2.06.94-2.06 2.06-.94-2.06-.94-.94-2.06-.94 2.06-2.06.94zm-11 1L8.5 8.5l.94-2.06 2.06-.94-2.06-.94L8.5 2.5l-.94 2.06-2.06.94zm10 10l.94 2.06.94-2.06 2.06-.94-2.06-.94-.94-2.06-.94 2.06-2.06.94z\"/><path d=\"M17.41 7.96l-1.37-1.37c-.4-.4-.92-.59-1.43-.59-.52 0-1.04.2-1.43.59L10.3 9.45l-7.72 7.72c-.78.78-.78 2.05 0 2.83L4 21.41c.39.39.9.59 1.41.59.51 0 1.02-.2 1.41-.59l7.78-7.78 2.81-2.81c.8-.78.8-2.07 0-2.86zM5.41 20L4 18.59l7.72-7.72 1.47 1.35L5.41 20z\"/>\n",
              "  </svg>\n",
              "      </button>\n",
              "      \n",
              "  <style>\n",
              "    .colab-df-container {\n",
              "      display:flex;\n",
              "      flex-wrap:wrap;\n",
              "      gap: 12px;\n",
              "    }\n",
              "\n",
              "    .colab-df-convert {\n",
              "      background-color: #E8F0FE;\n",
              "      border: none;\n",
              "      border-radius: 50%;\n",
              "      cursor: pointer;\n",
              "      display: none;\n",
              "      fill: #1967D2;\n",
              "      height: 32px;\n",
              "      padding: 0 0 0 0;\n",
              "      width: 32px;\n",
              "    }\n",
              "\n",
              "    .colab-df-convert:hover {\n",
              "      background-color: #E2EBFA;\n",
              "      box-shadow: 0px 1px 2px rgba(60, 64, 67, 0.3), 0px 1px 3px 1px rgba(60, 64, 67, 0.15);\n",
              "      fill: #174EA6;\n",
              "    }\n",
              "\n",
              "    [theme=dark] .colab-df-convert {\n",
              "      background-color: #3B4455;\n",
              "      fill: #D2E3FC;\n",
              "    }\n",
              "\n",
              "    [theme=dark] .colab-df-convert:hover {\n",
              "      background-color: #434B5C;\n",
              "      box-shadow: 0px 1px 3px 1px rgba(0, 0, 0, 0.15);\n",
              "      filter: drop-shadow(0px 1px 2px rgba(0, 0, 0, 0.3));\n",
              "      fill: #FFFFFF;\n",
              "    }\n",
              "  </style>\n",
              "\n",
              "      <script>\n",
              "        const buttonEl =\n",
              "          document.querySelector('#df-78c83fc3-de7a-498e-b27e-2020afcaba70 button.colab-df-convert');\n",
              "        buttonEl.style.display =\n",
              "          google.colab.kernel.accessAllowed ? 'block' : 'none';\n",
              "\n",
              "        async function convertToInteractive(key) {\n",
              "          const element = document.querySelector('#df-78c83fc3-de7a-498e-b27e-2020afcaba70');\n",
              "          const dataTable =\n",
              "            await google.colab.kernel.invokeFunction('convertToInteractive',\n",
              "                                                     [key], {});\n",
              "          if (!dataTable) return;\n",
              "\n",
              "          const docLinkHtml = 'Like what you see? Visit the ' +\n",
              "            '<a target=\"_blank\" href=https://colab.research.google.com/notebooks/data_table.ipynb>data table notebook</a>'\n",
              "            + ' to learn more about interactive tables.';\n",
              "          element.innerHTML = '';\n",
              "          dataTable['output_type'] = 'display_data';\n",
              "          await google.colab.output.renderOutput(dataTable, element);\n",
              "          const docLink = document.createElement('div');\n",
              "          docLink.innerHTML = docLinkHtml;\n",
              "          element.appendChild(docLink);\n",
              "        }\n",
              "      </script>\n",
              "    </div>\n",
              "  </div>\n",
              "  "
            ]
          },
          "metadata": {},
          "execution_count": 44
        }
      ],
      "source": [
        "df_test=pd.read_csv(\"Google_Stock_Price_Test.csv\")\n",
        "df_test"
      ]
    },
    {
      "cell_type": "markdown",
      "metadata": {
        "id": "mjkaXGPJc_hx"
      },
      "source": [
        "In[9]:"
      ]
    },
    {
      "cell_type": "code",
      "execution_count": null,
      "metadata": {
        "colab": {
          "base_uri": "https://localhost:8080/",
          "height": 250
        },
        "id": "jJj2P1joc_hx",
        "outputId": "e1f9ae6d-ceef-49e0-8d65-ccfcd1aa7707"
      },
      "outputs": [
        {
          "output_type": "execute_result",
          "data": {
            "text/plain": [
              "Text(0.5, 1.0, 'Sales Open')"
            ]
          },
          "metadata": {},
          "execution_count": 45
        },
        {
          "output_type": "display_data",
          "data": {
            "text/plain": [
              "<Figure size 1000x1000 with 1 Axes>"
            ],
            "image/png": "[encoded data removed]"
          },
          "metadata": {}
        }
      ],
      "source": [
        "figure=plt.figure(figsize=(10,10))\n",
        "plt.subplots_adjust(top=1.35, bottom=1.2)\n",
        "df_train['Open'].plot()\n",
        "plt.ylabel('Open')\n",
        "plt.xlabel(None)\n",
        "plt.title(f\"Sales Open\")"
      ]
    },
    {
      "cell_type": "markdown",
      "metadata": {
        "id": "wPayau5fc_hx"
      },
      "source": [
        "In[10]:"
      ]
    },
    {
      "cell_type": "code",
      "execution_count": null,
      "metadata": {
        "colab": {
          "base_uri": "https://localhost:8080/"
        },
        "id": "uZCKNJ1zc_hx",
        "outputId": "8708d3b6-dadc-4a3e-fe7c-6e876a353403"
      },
      "outputs": [
        {
          "output_type": "execute_result",
          "data": {
            "text/plain": [
              "array([[778.81],\n",
              "       [788.36],\n",
              "       [786.08],\n",
              "       [795.26],\n",
              "       [806.4 ],\n",
              "       [807.86],\n",
              "       [805.  ],\n",
              "       [807.14],\n",
              "       [807.48],\n",
              "       [807.08],\n",
              "       [805.81],\n",
              "       [805.12],\n",
              "       [806.91],\n",
              "       [807.25],\n",
              "       [822.3 ],\n",
              "       [829.62],\n",
              "       [837.81],\n",
              "       [834.71],\n",
              "       [814.66],\n",
              "       [796.86]])"
            ]
          },
          "metadata": {},
          "execution_count": 46
        }
      ],
      "source": [
        "testing_set = df_test.iloc[:, 1: 2].values\n",
        "testing_set"
      ]
    },
    {
      "cell_type": "markdown",
      "metadata": {
        "id": "-GEL6Sf6c_hy"
      },
      "source": [
        "In[11]:"
      ]
    },
    {
      "cell_type": "code",
      "execution_count": null,
      "metadata": {
        "colab": {
          "base_uri": "https://localhost:8080/"
        },
        "id": "SQHY_Mt8c_hy",
        "outputId": "17dd209a-2ac5-431e-ec1f-17d00be6bead"
      },
      "outputs": [
        {
          "output_type": "execute_result",
          "data": {
            "text/plain": [
              "(20, 1)"
            ]
          },
          "metadata": {},
          "execution_count": 47
        }
      ],
      "source": [
        "testing_set=sc.fit_transform(testing_set)\n",
        "testing_set.shape"
      ]
    },
    {
      "cell_type": "markdown",
      "metadata": {
        "id": "MWT80vFEc_hy"
      },
      "source": [
        "In[17]:"
      ]
    },
    {
      "cell_type": "code",
      "execution_count": null,
      "metadata": {
        "colab": {
          "base_uri": "https://localhost:8080/"
        },
        "id": "ELq0FFsuc_hy",
        "outputId": "71ef6f65-4719-49c6-9498-c66924a0af49"
      },
      "outputs": [
        {
          "output_type": "execute_result",
          "data": {
            "text/plain": [
              "(20, 1)"
            ]
          },
          "metadata": {},
          "execution_count": 48
        }
      ],
      "source": [
        "x_test= testing_set[0:20]\n",
        "y_test= testing_set[0:20]\n",
        "#display(x_test,  y_test)\n",
        "y_test.shape"
      ]
    },
    {
      "cell_type": "markdown",
      "metadata": {
        "id": "MpWSK-lzc_hy"
      },
      "source": [
        "In[18]:"
      ]
    },
    {
      "cell_type": "code",
      "execution_count": null,
      "metadata": {
        "id": "fVKtrL6Ac_hy"
      },
      "outputs": [],
      "source": [
        "x_test=np.reshape(x_test, (20 , 1 , 1))"
      ]
    },
    {
      "cell_type": "markdown",
      "metadata": {
        "id": "A2WgKpCVc_hy"
      },
      "source": [
        "In[19]:"
      ]
    },
    {
      "cell_type": "code",
      "execution_count": null,
      "metadata": {
        "colab": {
          "base_uri": "https://localhost:8080/"
        },
        "id": "6Q1FmdCgc_hz",
        "outputId": "5eb16a30-d9de-4337-e11a-0c74d704a82a"
      },
      "outputs": [
        {
          "output_type": "execute_result",
          "data": {
            "text/plain": [
              "(20, 1, 1)"
            ]
          },
          "metadata": {},
          "execution_count": 50
        }
      ],
      "source": [
        "x_test.shape"
      ]
    },
    {
      "cell_type": "markdown",
      "metadata": {
        "id": "d0FR-KfMc_hz"
      },
      "source": [
        "In[20]:"
      ]
    },
    {
      "cell_type": "code",
      "execution_count": null,
      "metadata": {
        "id": "8uM9EqWCc_hz"
      },
      "outputs": [],
      "source": [
        "import tensorflow.keras as tk"
      ]
    },
    {
      "cell_type": "markdown",
      "metadata": {
        "id": "NixPST2bc_hz"
      },
      "source": [
        "In[32]:"
      ]
    },
    {
      "cell_type": "code",
      "execution_count": null,
      "metadata": {
        "id": "mxQkUhrJc_hz"
      },
      "outputs": [],
      "source": [
        "model = tk.Sequential()"
      ]
    },
    {
      "cell_type": "code",
      "execution_count": null,
      "metadata": {
        "id": "Pvbc21xbc_hz"
      },
      "outputs": [],
      "source": [
        "model.add(tk.layers.LSTM(units=5, activation= 'sigmoid', input_shape= (None,1)))"
      ]
    },
    {
      "cell_type": "code",
      "execution_count": null,
      "metadata": {
        "id": "t9Di8hMQc_hz"
      },
      "outputs": [],
      "source": [
        "model.add(tk.layers.Dense( units=1 ))"
      ]
    },
    {
      "cell_type": "code",
      "execution_count": null,
      "metadata": {
        "colab": {
          "base_uri": "https://localhost:8080/"
        },
        "id": "InzDlP-8c_h9",
        "outputId": "3e3b5ba9-31c7-4bf1-ca65-1ae7856c8c9c"
      },
      "outputs": [
        {
          "output_type": "stream",
          "name": "stdout",
          "text": [
            "Epoch 1/50\n",
            "40/40 [==============================] - 2s 10ms/step - loss: 0.0710 - val_loss: 0.0535\n",
            "Epoch 2/50\n",
            "40/40 [==============================] - 0s 3ms/step - loss: 0.0675 - val_loss: 0.0519\n",
            "Epoch 3/50\n",
            "40/40 [==============================] - 0s 3ms/step - loss: 0.0655 - val_loss: 0.0504\n",
            "Epoch 4/50\n",
            "40/40 [==============================] - 0s 4ms/step - loss: 0.0635 - val_loss: 0.0488\n",
            "Epoch 5/50\n",
            "40/40 [==============================] - 0s 3ms/step - loss: 0.0614 - val_loss: 0.0471\n",
            "Epoch 6/50\n",
            "40/40 [==============================] - 0s 4ms/step - loss: 0.0594 - val_loss: 0.0454\n",
            "Epoch 7/50\n",
            "40/40 [==============================] - 0s 4ms/step - loss: 0.0571 - val_loss: 0.0436\n",
            "Epoch 8/50\n",
            "40/40 [==============================] - 0s 4ms/step - loss: 0.0548 - val_loss: 0.0417\n",
            "Epoch 9/50\n",
            "40/40 [==============================] - 0s 4ms/step - loss: 0.0523 - val_loss: 0.0398\n",
            "Epoch 10/50\n",
            "40/40 [==============================] - 0s 4ms/step - loss: 0.0497 - val_loss: 0.0377\n",
            "Epoch 11/50\n",
            "40/40 [==============================] - 0s 3ms/step - loss: 0.0470 - val_loss: 0.0354\n",
            "Epoch 12/50\n",
            "40/40 [==============================] - 0s 4ms/step - loss: 0.0440 - val_loss: 0.0332\n",
            "Epoch 13/50\n",
            "40/40 [==============================] - 0s 4ms/step - loss: 0.0411 - val_loss: 0.0308\n",
            "Epoch 14/50\n",
            "40/40 [==============================] - 0s 3ms/step - loss: 0.0380 - val_loss: 0.0283\n",
            "Epoch 15/50\n",
            "40/40 [==============================] - 0s 4ms/step - loss: 0.0349 - val_loss: 0.0259\n",
            "Epoch 16/50\n",
            "40/40 [==============================] - 0s 4ms/step - loss: 0.0318 - val_loss: 0.0235\n",
            "Epoch 17/50\n",
            "40/40 [==============================] - 0s 4ms/step - loss: 0.0287 - val_loss: 0.0211\n",
            "Epoch 18/50\n",
            "40/40 [==============================] - 0s 4ms/step - loss: 0.0256 - val_loss: 0.0188\n",
            "Epoch 19/50\n",
            "40/40 [==============================] - 0s 3ms/step - loss: 0.0227 - val_loss: 0.0166\n",
            "Epoch 20/50\n",
            "40/40 [==============================] - 0s 4ms/step - loss: 0.0199 - val_loss: 0.0145\n",
            "Epoch 21/50\n",
            "40/40 [==============================] - 0s 4ms/step - loss: 0.0173 - val_loss: 0.0125\n",
            "Epoch 22/50\n",
            "40/40 [==============================] - 0s 4ms/step - loss: 0.0148 - val_loss: 0.0106\n",
            "Epoch 23/50\n",
            "40/40 [==============================] - 0s 4ms/step - loss: 0.0126 - val_loss: 0.0090\n",
            "Epoch 24/50\n",
            "40/40 [==============================] - 0s 4ms/step - loss: 0.0105 - val_loss: 0.0075\n",
            "Epoch 25/50\n",
            "40/40 [==============================] - 0s 4ms/step - loss: 0.0087 - val_loss: 0.0061\n",
            "Epoch 26/50\n",
            "40/40 [==============================] - 0s 4ms/step - loss: 0.0071 - val_loss: 0.0050\n",
            "Epoch 27/50\n",
            "40/40 [==============================] - 0s 3ms/step - loss: 0.0058 - val_loss: 0.0040\n",
            "Epoch 28/50\n",
            "40/40 [==============================] - 0s 3ms/step - loss: 0.0046 - val_loss: 0.0032\n",
            "Epoch 29/50\n",
            "40/40 [==============================] - 0s 4ms/step - loss: 0.0036 - val_loss: 0.0025\n",
            "Epoch 30/50\n",
            "40/40 [==============================] - 0s 4ms/step - loss: 0.0028 - val_loss: 0.0019\n",
            "Epoch 31/50\n",
            "40/40 [==============================] - 0s 4ms/step - loss: 0.0022 - val_loss: 0.0015\n",
            "Epoch 32/50\n",
            "40/40 [==============================] - 0s 4ms/step - loss: 0.0017 - val_loss: 0.0011\n",
            "Epoch 33/50\n",
            "40/40 [==============================] - 0s 6ms/step - loss: 0.0013 - val_loss: 8.3394e-04\n",
            "Epoch 34/50\n",
            "40/40 [==============================] - 0s 6ms/step - loss: 0.0010 - val_loss: 6.2199e-04\n",
            "Epoch 35/50\n",
            "40/40 [==============================] - 0s 5ms/step - loss: 8.0303e-04 - val_loss: 4.6127e-04\n",
            "Epoch 36/50\n",
            "40/40 [==============================] - 0s 5ms/step - loss: 6.3929e-04 - val_loss: 3.4244e-04\n",
            "Epoch 37/50\n",
            "40/40 [==============================] - 0s 7ms/step - loss: 5.2003e-04 - val_loss: 2.5584e-04\n",
            "Epoch 38/50\n",
            "40/40 [==============================] - 0s 6ms/step - loss: 4.3635e-04 - val_loss: 1.9023e-04\n",
            "Epoch 39/50\n",
            "40/40 [==============================] - 0s 5ms/step - loss: 3.7606e-04 - val_loss: 1.4489e-04\n",
            "Epoch 40/50\n",
            "40/40 [==============================] - 0s 6ms/step - loss: 3.3592e-04 - val_loss: 1.1263e-04\n",
            "Epoch 41/50\n",
            "40/40 [==============================] - 0s 6ms/step - loss: 3.0854e-04 - val_loss: 8.9100e-05\n",
            "Epoch 42/50\n",
            "40/40 [==============================] - 0s 6ms/step - loss: 2.9001e-04 - val_loss: 7.1854e-05\n",
            "Epoch 43/50\n",
            "40/40 [==============================] - 0s 6ms/step - loss: 2.7777e-04 - val_loss: 6.0369e-05\n",
            "Epoch 44/50\n",
            "40/40 [==============================] - 0s 5ms/step - loss: 2.7029e-04 - val_loss: 5.2282e-05\n",
            "Epoch 45/50\n",
            "40/40 [==============================] - 0s 4ms/step - loss: 2.6610e-04 - val_loss: 4.6692e-05\n",
            "Epoch 46/50\n",
            "40/40 [==============================] - 0s 4ms/step - loss: 2.6189e-04 - val_loss: 4.2205e-05\n",
            "Epoch 47/50\n",
            "40/40 [==============================] - 0s 4ms/step - loss: 2.6004e-04 - val_loss: 3.9164e-05\n",
            "Epoch 48/50\n",
            "40/40 [==============================] - 0s 4ms/step - loss: 2.5879e-04 - val_loss: 3.7020e-05\n",
            "Epoch 49/50\n",
            "40/40 [==============================] - 0s 4ms/step - loss: 2.5810e-04 - val_loss: 3.7904e-05\n",
            "Epoch 50/50\n",
            "40/40 [==============================] - 0s 3ms/step - loss: 2.5865e-04 - val_loss: 3.5685e-05\n"
          ]
        },
        {
          "output_type": "execute_result",
          "data": {
            "text/plain": [
              "<keras.callbacks.History at 0x7f131a7c3550>"
            ]
          },
          "metadata": {},
          "execution_count": 55
        }
      ],
      "source": [
        "model.compile(optimizer='adam', loss='mean_squared_error')\n",
        "model.fit(x_train, y_train, batch_size=32, epochs=50,validation_data=(x_test,y_test))"
      ]
    },
    {
      "cell_type": "markdown",
      "metadata": {
        "id": "01BsP2omc_h-"
      },
      "source": [
        "In[33]:"
      ]
    },
    {
      "cell_type": "code",
      "execution_count": null,
      "metadata": {
        "colab": {
          "base_uri": "https://localhost:8080/"
        },
        "id": "mDXVMFlSc_h-",
        "outputId": "d6105b9e-4897-4f56-b89e-178a3d1d4785"
      },
      "outputs": [
        {
          "output_type": "stream",
          "name": "stdout",
          "text": [
            "1/1 [==============================] - 0s 172ms/step\n"
          ]
        }
      ],
      "source": [
        "y_pred=model.predict(x_test)"
      ]
    },
    {
      "cell_type": "markdown",
      "metadata": {
        "id": "my5Bj2DCc_h-"
      },
      "source": [
        "In[34]:"
      ]
    },
    {
      "cell_type": "code",
      "execution_count": null,
      "metadata": {
        "colab": {
          "base_uri": "https://localhost:8080/",
          "height": 472
        },
        "id": "63c9rtFcc_h-",
        "outputId": "38b3b4e0-5f56-44b7-bca0-ac14007ffe82"
      },
      "outputs": [
        {
          "output_type": "display_data",
          "data": {
            "text/plain": [
              "<Figure size 640x480 with 1 Axes>"
            ],
            "image/png": "[encoded data removed]"
          },
          "metadata": {}
        }
      ],
      "source": [
        "plt.plot( y_test , color = 'red' , label = 'Real Google Stock Price')\n",
        "plt.plot( y_pred , color = 'blue' , label = 'Predicted Google Stock Price')\n",
        "plt.title('Google Stock Price Prediction')\n",
        "plt.xlabel( 'time' )\n",
        "plt.ylabel( 'Google Stock Price' )\n",
        "plt.legend()\n",
        "plt.show()"
      ]
    },
    {
      "cell_type": "markdown",
      "metadata": {
        "id": "-lz9JkKYc_h_"
      },
      "source": [
        "In[ ]:"
      ]
    }
  ],
  "metadata": {
    "kernelspec": {
      "display_name": "Python 3",
      "language": "python",
      "name": "python3"
    },
    "language_info": {
      "codemirror_mode": {
        "name": "ipython",
        "version": 3
      },
      "file_extension": ".py",
      "mimetype": "text/x-python",
      "name": "python",
      "nbconvert_exporter": "python",
      "pygments_lexer": "ipython3",
      "version": "3.6.4"
    },
    "colab": {
      "provenance": []
    }
  },
  "nbformat": 4,
  "nbformat_minor": 0
}